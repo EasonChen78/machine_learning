{
  "nbformat": 4,
  "nbformat_minor": 0,
  "metadata": {
    "colab": {
      "provenance": [],
      "authorship_tag": "ABX9TyMue9vtxxb+h1x4J9O4GaUn",
      "include_colab_link": true
    },
    "kernelspec": {
      "name": "python3",
      "display_name": "Python 3"
    },
    "language_info": {
      "name": "python"
    }
  },
  "cells": [
    {
      "cell_type": "markdown",
      "metadata": {
        "id": "view-in-github",
        "colab_type": "text"
      },
      "source": [
        "<a href=\"https://colab.research.google.com/github/EasonChen78/machine_learning/blob/main/20230321_NLP_Tools.ipynb\" target=\"_parent\"><img src=\"https://colab.research.google.com/assets/colab-badge.svg\" alt=\"Open In Colab\"/></a>"
      ]
    },
    {
      "cell_type": "code",
      "execution_count": 17,
      "metadata": {
        "colab": {
          "base_uri": "https://localhost:8080/"
        },
        "id": "PTGN9QqUJMCB",
        "outputId": "91777263-853a-4cd6-bcff-6aa336a2184c"
      },
      "outputs": [
        {
          "output_type": "stream",
          "name": "stdout",
          "text": [
            "Looking in indexes: https://pypi.org/simple, https://us-python.pkg.dev/colab-wheels/public/simple/\n",
            "Requirement already satisfied: opencc-python-reimplemented in /usr/local/lib/python3.9/dist-packages (0.1.7)\n"
          ]
        }
      ],
      "source": [
        "!pip install opencc-python-reimplemented"
      ]
    },
    {
      "cell_type": "code",
      "source": [
        "to_convert = \"\"\"\n",
        "有一只蜘蛛，在寺庙的廊庑下静静地结网。由于她经常听到讲经诵法，所以一千年过去了，她变得有些懂得佛理了。\n",
        "　　有一天，佛从这间寺庙路过，看到了这只有佛缘的蜘蛛，于是问她：“你说，什么是最珍贵的？”蜘蛛想了想说：“是得不到和已失去。”佛笑笑，然后走了。\n",
        "　　就这样，一千年过去了，蜘蛛一直被香火熏陶着，变得更深沉更知佛法。有一天，佛又路过这个寺庙，于是又问她：“现在你修行加深了，你认为什么是最珍贵的呢？”蜘蛛不假思索地说：“还是得不到和已失去。”佛又微笑着走了。\n",
        "\"\"\""
      ],
      "metadata": {
        "id": "1FD-alZIMK-S"
      },
      "execution_count": 18,
      "outputs": []
    },
    {
      "cell_type": "code",
      "source": [
        "from opencc import OpenCC\n",
        "cc = OpenCC(\"s2twp\")\n",
        "converted = cc.convert(to_convert)\n",
        "converted.replace(\"\\u3000\", \"\").replace(\"\\n\", \"\")"
      ],
      "metadata": {
        "colab": {
          "base_uri": "https://localhost:8080/",
          "height": 87
        },
        "id": "ekp0kHu0L5DD",
        "outputId": "0b516702-61f4-4008-b7d9-eb9dd3c0364e"
      },
      "execution_count": 21,
      "outputs": [
        {
          "output_type": "execute_result",
          "data": {
            "text/plain": [
              "'有一隻蜘蛛，在寺廟的廊廡下靜靜地結網。由於她經常聽到講經誦法，所以一千年過去了，她變得有些懂得佛理了。有一天，佛從這間寺廟路過，看到了這隻有佛緣的蜘蛛，於是問她：“你說，什麼是最珍貴的？”蜘蛛想了想說：“是得不到和已失去。”佛笑笑，然後走了。就這樣，一千年過去了，蜘蛛一直被香火薰陶著，變得更深沉更知佛法。有一天，佛又路過這個寺廟，於是又問她：“現在你修行加深了，你認為什麼是最珍貴的呢？”蜘蛛不假思索地說：“還是得不到和已失去。”佛又微笑著走了。'"
            ],
            "application/vnd.google.colaboratory.intrinsic+json": {
              "type": "string"
            }
          },
          "metadata": {},
          "execution_count": 21
        }
      ]
    },
    {
      "cell_type": "code",
      "source": [
        "import jieba\n",
        "from urllib.request import urlretrieve\n",
        "url = \"https://github.com/fxsjy/jieba/raw/master/extra_dict/dict.txt.big\"\n",
        "urlretrieve(url, \"dict.txt.big\")\n",
        "jieba.set_dictionary(\"dict.txt.big\")\n",
        "jieba.load_userdict(\"mydic.txt\")\n",
        "with open(\"test.txt\", \"r\", encoding=\"utf-8\") as f:\n",
        "  content = f.read()\n",
        "content = content.replace(\"\\u3000\", \" \")\n",
        "print(\" \".join(jieba.cut(content)))"
      ],
      "metadata": {
        "colab": {
          "base_uri": "https://localhost:8080/"
        },
        "id": "fY3s68V2NomB",
        "outputId": "592ed447-c692-4bc4-e23d-285752d5aafc"
      },
      "execution_count": 20,
      "outputs": [
        {
          "output_type": "stream",
          "name": "stderr",
          "text": [
            "Building prefix dict from /content/dict.txt.big ...\n",
            "DEBUG:jieba:Building prefix dict from /content/dict.txt.big ...\n",
            "Dumping model to file cache /tmp/jieba.u501edca284da514cb68b53a20324f4e3.cache\n",
            "DEBUG:jieba:Dumping model to file cache /tmp/jieba.u501edca284da514cb68b53a20324f4e3.cache\n",
            "Loading model cost 1.919 seconds.\n",
            "DEBUG:jieba:Loading model cost 1.919 seconds.\n",
            "Prefix dict has been built successfully.\n",
            "DEBUG:jieba:Prefix dict has been built successfully.\n"
          ]
        },
        {
          "output_type": "stream",
          "name": "stdout",
          "text": [
            "即將 於 2023 年 3 月 24 日 ( 五 ) 發售 的 《 Resident   Evil   RE : 4 》 ( 惡靈古堡 RE : 4 、 生化危機 RE : 4 ) \n",
            " 繼大賣 的 《 RE : 2 》 《 RE : 3 》 之後 ， 全世界 的 目光 都 集中 在 了 本 系列 中 最 受歡迎 之一 的 《 Resident   Evil   4 》 的 「 RE 」 版本 上 。 \n",
            " 發售 前 ， 從 2023 年 3 月 10 日 ( 五 ) 開始 提供 試玩版 「 Chainsaw   Demo 」 ， 應該 有 不少 人 已經 接觸 了 這用 最新 科技 呈現 美麗 重生 的 恐懼 的 一部分 了 吧 。 \n",
            " 《 Resident   Evil 》 系列 因為 《 Resident   Evil   7 》 實在 是 太 恐怖 ， 所以 最近 開始 卡普空 採行 和 遊戲 本身 恐怖 完全 相反 的 宣傳 策略 。 \n",
            " 例如 ， 《 Resident   Evil   8 村莊 》 的 官方 形象 主題曲 由 日本 資深 歌手 吉幾三 演唱 的 「 俺 ら こ ん な 村 い や だ Lv.100 」 還有 釋出 可愛 人偶 劇 「 バ イ オ 村 で あ そ ぼ ♪ 」 。 ( ※ 兩者 目前 均 未公開 ) \n",
            " 畢竟 《 Resident   Evil   4 》 是 款 擁有 高 動作性 的 遊戲 ， 並 不是 一味 的 強調 「 恐怖 」 ， 所以 本來 以為 不會 有 這樣 的 宣傳 ・ ・ ・ 卡普空 真是 不讓 人 失望 呢 。 \n",
            " 「 RE 名作 劇場   不 思議 村子 裡的 里昂 」 上映 了 ！\n"
          ]
        }
      ]
    }
  ]
}